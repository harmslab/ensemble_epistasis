{
 "cells": [
  {
   "cell_type": "markdown",
   "metadata": {},
   "source": [
    "# Figure 2: Ensemble epistasis depends on excited structure stability"
   ]
  },
  {
   "cell_type": "markdown",
   "metadata": {},
   "source": [
    "## Imports"
   ]
  },
  {
   "cell_type": "code",
   "execution_count": 1,
   "metadata": {},
   "outputs": [],
   "source": [
    "%matplotlib inline\n",
    "from matplotlib import pyplot as plt\n",
    "import numpy as np"
   ]
  },
  {
   "cell_type": "markdown",
   "metadata": {},
   "source": [
    "## Functions"
   ]
  },
  {
   "cell_type": "code",
   "execution_count": 2,
   "metadata": {},
   "outputs": [],
   "source": [
    "def en(dG_j,dG_k,T,R=0.008314):\n",
    "    \"\"\"\n",
    "    Boltzmann-weighted free energy of conformations j and k.\n",
    "    \n",
    "    dG_j: stability of conformation j\n",
    "    dG_k: stability of conformation k\n",
    "    T: temperature (K)\n",
    "    R: gas constant\"\"\"\n",
    "    \n",
    "    RT = R*T\n",
    "    \n",
    "    return -RT*np.log(np.exp(-dG_j/RT) + np.exp(-dG_k/RT))\n",
    "\n",
    "\n",
    "def get_epistasis(dG_i,dG_j,dG_k,             \n",
    "                  ddG_i_A,ddG_j_A,ddG_k_A,\n",
    "                  ddG_i_B,ddG_j_B,ddG_k_B,\n",
    "                  T=298,R=0.008314):\n",
    "    \"\"\"\n",
    "    Return the epistasis in dG_obs between two mutations introduced into a\n",
    "    three-conformation system. \n",
    "    \n",
    "    dG_i, dG_j, dG_k: dG of conformations i, j, and k for genotype ab\n",
    "    ddG_i_A, ddG_j_A, ddG_k_A: effect of mutation A on conformations i, j, and k\n",
    "    ddG_i_B, ddG_j_B, ddG_k_B: effect of mutation B on conformations i, j, and k\n",
    "    T: temperature\n",
    "    R: gas constant\n",
    "    \n",
    "    returns:\n",
    "        magnitude of epistasis (sign is (AB - aB) - (Ab - ab))\n",
    "        whether sign in A (True,False)\n",
    "        whether sign in B (Ture,False)\n",
    "        type of epistasis as a string (none, magnitude, sign, reciprocal_sign)\n",
    "    \"\"\"\n",
    "    \n",
    "    # observables\n",
    "    ab = dG_i                     - en(dG_j,                    dG_k,                    T,R)\n",
    "    Ab = dG_i + ddG_i_A           - en(dG_j + ddG_j_A,          dG_k + ddG_k_A,          T,R)\n",
    "    aB = dG_i +           ddG_i_B - en(dG_j +           ddG_j_B,dG_k +           ddG_k_B,T,R)\n",
    "    AB = dG_i + ddG_i_A + ddG_i_B - en(dG_j + ddG_j_A + ddG_j_B,dG_k + ddG_k_A + ddG_k_B,T,R)\n",
    "    \n",
    "    # magnitude\n",
    "    mag_in_a = (AB - aB) - (Ab - ab)\n",
    "    mag_in_b = (AB - Ab) - (aB - ab)\n",
    "    if mag_in_a == 0:\n",
    "        return mag_in_a, mag_in_b, False, False, \"none\"\n",
    "\n",
    "    ep_type = \"magnitude\"\n",
    "    \n",
    "    # sign in A\n",
    "    s1 = (AB - aB)/np.abs(AB - aB)\n",
    "    s2 = (Ab - ab)/np.abs(Ab - ab)\n",
    "    sign_in_a = False\n",
    "    if s1 != s2:\n",
    "        ep_type = \"sign\"\n",
    "        sign_in_a = True\n",
    "    \n",
    "    # sign in B\n",
    "    s1 = (AB - Ab)/np.abs(AB - Ab)\n",
    "    s2 = (aB - ab)/np.abs(aB - ab)\n",
    "    sign_in_b = False\n",
    "    if s1 != s2:\n",
    "        ep_type = \"sign\"\n",
    "        sign_in_b = True\n",
    "    \n",
    "    # reciprocal\n",
    "    if sign_in_a and sign_in_b:\n",
    "        ep_type = \"reciprocal_sign\"\n",
    "        \n",
    "        \n",
    "    \n",
    "    \n",
    "    return mag_in_a, mag_in_b, sign_in_a, sign_in_b, ep_type\n",
    "    "
   ]
  },
  {
   "cell_type": "code",
   "execution_count": 3,
   "metadata": {},
   "outputs": [],
   "source": [
    "def plot_surface(some_array,x_array,y_array,flip_color=True,max_value=None,cmap=\"bwr\",\n",
    "                 xlabel=None,ylabel=None):\n",
    "    \"\"\"\n",
    "    Plot a contour map.\n",
    "    \n",
    "    some_array: n x m 2D array\n",
    "    x_array: array with (at least) [min_x,max_x]\n",
    "    y_array: array with (at least) [min_y,max_y]\n",
    "    flip_color: whether or not to flip values in some_array before plotting\n",
    "    max_value: set min and max color to -max_value and +max_value\n",
    "        None: get max_value from the array by max(abs(some_array))\n",
    "        float: use abs(max_value) given\n",
    "    cmap: matplotlib color map to use\n",
    "    xlabel: x label\n",
    "    ylabel: y label\n",
    "    \"\"\"\n",
    "\n",
    "    # Flip color\n",
    "    if flip_color:\n",
    "        plot_array = -some_array\n",
    "\n",
    "    else:\n",
    "        plot_array = some_array\n",
    "    \n",
    "    # Set max color\n",
    "    if max_value is None:\n",
    "        extreme = np.max(np.abs(plot_array))\n",
    "\n",
    "    else:\n",
    "        extreme = np.abs(max_value)\n",
    "        \n",
    "    # Plot it\n",
    "    plt.imshow(plot_array,\n",
    "               cmap=cmap,origin=\"left\",vmin=-extreme,vmax=extreme,\n",
    "               extent=[x_array[0],x_array[-1],y_array[0],y_array[-1],],\n",
    "               interpolation=\"none\")\n",
    "    \n",
    "    if xlabel is not None:\n",
    "        plt.xlabel(xlabel)\n",
    "    \n",
    "    if ylabel is not None:\n",
    "        plt.ylabel(ylabel)\n",
    "        \n",
    "        \n",
    "def _plot_states(dG_j,dG_k,\n",
    "                 ddG_j=None,ddG_k=None,\n",
    "                 observable=0,\n",
    "                 x_location=0,arrow_colors=None):\n",
    "    \"\"\"\n",
    "    Draw conformation energies and effects of mutations for a given genotype.\n",
    "    \n",
    "    dG_j: stability of conformation j before mutation\n",
    "    dG_k: stability of conformation k before mutation\n",
    "    ddG_j: effect of mutations to conformation j.  \n",
    "           If None, no mutations.\n",
    "           If float, single mutation (one arrow).\n",
    "           If list of floats, multiple mutations (each with own arrow)\n",
    "    ddG_k: effect of mutations to conformation k.  (Same syntax as ddG_j).\n",
    "    observable: observable <dGjk>\n",
    "    x_location: where to draw states on total plot.\n",
    "    arrow_colors: color to draw each arrow.\n",
    "                  If None, all arrows black.\n",
    "                  Otherwise, must be a list of colors, in order.  Arrows are\n",
    "                  plotted in order ddG_j, then ddG_k.   \n",
    "    \"\"\"\n",
    "\n",
    "    # x-placement for edges of genotypes\n",
    "    x0 = 0\n",
    "    x1 = 2\n",
    "    x2 = 2.5\n",
    "    x3 = 4.5\n",
    "\n",
    "    # If ddG_j specified, add dashed line for dG_j\n",
    "    if ddG_j is None:\n",
    "        ddG_j = 0\n",
    "    else:        \n",
    "        plt.plot([x0+x_location,x1+x_location],[dG_j,dG_j],\"--\",lw=2,color=\"purple\",zorder=10)\n",
    "\n",
    "    # If ddG_k specified, add dashed line for dG_k\n",
    "    if ddG_k is None:\n",
    "        ddG_k = 0\n",
    "    else:        \n",
    "        plt.plot([x2+x_location,x3+x_location],[dG_k,dG_k],\"--\",lw=2,color=\"blue\",zorder=10)\n",
    "    \n",
    "    # If ddG_j is a list, grab total shift.  If it is not a list, treat as total \n",
    "    # shift and turn into a list.\n",
    "    try:\n",
    "        len(ddG_j)\n",
    "        total_ddG_j = sum(ddG_j)\n",
    "    except TypeError:\n",
    "        total_ddG_j = ddG_j\n",
    "        ddG_j = [ddG_j,]\n",
    "\n",
    "    # If ddG_k is a list, grab total shift.  If it is not a list, treat as total \n",
    "    # shift and turn into a list.\n",
    "    try:\n",
    "        len(ddG_k)\n",
    "        total_ddG_k = sum(ddG_k)\n",
    "    except TypeError:\n",
    "        total_ddG_k = ddG_k\n",
    "        ddG_k = [ddG_k,]\n",
    "    \n",
    "    # Plot energy levels\n",
    "    plt.plot([x0+x_location,x1+x_location],[dG_j+total_ddG_j,dG_j+total_ddG_j],lw=2,color=\"purple\",zorder=10)\n",
    "    plt.plot([x2+x_location,x3+x_location],[dG_k+total_ddG_k,dG_k+total_ddG_k],lw=2,color=\"blue\",zorder=10)\n",
    "    \n",
    "    # Plot observable\n",
    "    plt.plot([x0+x_location,x3+x_location],[observable,observable],lw=4,color=\"black\",zorder=0)\n",
    "    \n",
    "    # Count through arrow colors\n",
    "    color_counter = 0\n",
    "    \n",
    "    current = dG_j\n",
    "    for counter, j_arrow in enumerate(ddG_j):\n",
    "        \n",
    "        # If this ddG is 0, do not draw an arrow\n",
    "        if j_arrow == 0:\n",
    "            continue\n",
    "        \n",
    "        # Figure out where to draw arrow (x-position)\n",
    "        x = x0 + (x1 - x0)/2 + x_location\n",
    "    \n",
    "        # Figure out if arrow goes up or down\n",
    "        sign = j_arrow/np.abs(j_arrow)\n",
    "        \n",
    "        # Figure out arrow color\n",
    "        if arrow_colors is not None:\n",
    "            c = arrow_colors[color_counter]\n",
    "        else:\n",
    "            c = \"black\"\n",
    "        \n",
    "        # Draw arrow\n",
    "        plt.arrow(x,current,0,j_arrow -sign*0.25,color=c,width=0.2,head_length=0.50,zorder=20)\n",
    "        \n",
    "        # Update counters\n",
    "        current = current + j_arrow\n",
    "        color_counter += 1\n",
    "        \n",
    "    current = dG_k\n",
    "    for counter, k_arrow in enumerate(ddG_k):\n",
    "        \n",
    "        # If this ddG is 0, do not draw an arrow\n",
    "        if k_arrow == 0:\n",
    "            continue\n",
    "        \n",
    "        # Figure out where to draw arrow (x-position)\n",
    "        x = x2 + (x3 - x2)/2 + x_location\n",
    "    \n",
    "        # Figure out if arrow goes up or down\n",
    "        sign = k_arrow/np.abs(k_arrow)\n",
    "        \n",
    "        # Figure out arrow color\n",
    "        if arrow_colors is not None:\n",
    "            c = arrow_colors[color_counter]\n",
    "        else:\n",
    "            c = \"black\"\n",
    "        \n",
    "        # Draw arrow\n",
    "        plt.arrow(x,current,0,k_arrow -sign*0.25,color=c,width=0.2,head_length=0.50,zorder=20)\n",
    "        \n",
    "        # Update counters\n",
    "        current = current + k_arrow\n",
    "        color_counter += 1\n",
    "    \n",
    "\n",
    "def plot_state_cycle(dG_j=0,dG_k=0,\n",
    "                     ddG_Aj=-4,ddG_Ak=4,\n",
    "                     ddG_Bj=-4,ddG_Bk=4,\n",
    "                     T=298,R=0.008314,\n",
    "                     ylim=(-14,14)):\n",
    "    \"\"\"\n",
    "    dG_j: stability of conformation j, ab genotype\n",
    "    dG_k: stability of conformation k, ab genotype\n",
    "    ddG_Aj: effect of mutation A on conformation j\n",
    "    ddG_Ak: effect of mutation A on conformation k\n",
    "    ddG_Bj: effect of mutation B on conformation j\n",
    "    ddG_Bk: effect of mutation B on conformation k\n",
    "    T: temperature (K)\n",
    "    R: gas constant\n",
    "    y_lim: y-limits of plot\n",
    "    \"\"\"\n",
    "    \n",
    "    # Calculate observables for ab, Ab, aB, and AB genotypes\n",
    "    RT = R*T\n",
    "    \n",
    "    ab = en(dG_j                  , dG_k,                  T,R)\n",
    "    Ab = en(dG_j + ddG_Aj         , dG_k + ddG_Ak,         T,R)\n",
    "    aB = en(dG_j          + ddG_Bj, dG_k          + ddG_Bk,T,R)\n",
    "    AB = en(dG_j + ddG_Aj + ddG_Bj, dG_k + ddG_Ak + ddG_Bk,T,R)\n",
    "    \n",
    "    #print(dG_j-dG_k,ddG_Aj-ddG_Ak,(AB-aB)-(Ab-ab))\n",
    "    \n",
    "    # Plot states for each genotype, offseting by x_location for each one\n",
    "    _plot_states(dG_j,dG_k,observable=ab,x_location=0)\n",
    "    _plot_states(dG_j,dG_k,[ddG_Aj],[ddG_Ak],observable=Ab,x_location=6,arrow_colors=[\"orange\",\"orange\"])\n",
    "    _plot_states(dG_j,dG_k,[ddG_Bj],[ddG_Bk],observable=aB,x_location=12,arrow_colors=[\"green\",\"green\"])\n",
    "    _plot_states(dG_j,dG_k,[ddG_Bj,ddG_Aj],[ddG_Bk,ddG_Ak],observable=AB,x_location=18,arrow_colors=[\"green\",\"orange\",\"green\",\"orange\"])\n",
    "    \n",
    "    # Print epistasis\n",
    "    print(\"Ab-ab:\",Ab-ab)\n",
    "    print(\"AB-ab:\",AB-aB)\n",
    "    print(\"Epistasis:\",(AB-aB)-(Ab-ab))\n",
    "    \n",
    "    plt.ylim(*ylim)"
   ]
  },
  {
   "cell_type": "markdown",
   "metadata": {},
   "source": [
    "# Panel 2A: Epistasis parameter space (differential excited structure stability)"
   ]
  },
  {
   "cell_type": "code",
   "execution_count": 4,
   "metadata": {},
   "outputs": [
    {
     "data": {
      "image/png": "[encoded data removed]",
      "text/plain": [
       "<Figure size 432x288 with 1 Axes>"
      ]
     },
     "metadata": {
      "needs_background": "light"
     },
     "output_type": "display_data"
    }
   ],
   "source": [
    "R = 0.008314\n",
    "T = 298.0\n",
    "\n",
    "dG_i = 0\n",
    "ddG_i_A = 0\n",
    "ddG_i_B = 0\n",
    "\n",
    "dG_j = 0\n",
    "ddG_j_A = 0\n",
    "ddG_j_B = 0\n",
    "\n",
    "dG_k = 0\n",
    "ddG_k_A = 0\n",
    "ddG_k_B = 0\n",
    "\n",
    "d_step_size = 0.1\n",
    "d_min_value = -10\n",
    "d_max_value = 10\n",
    "d_values = np.arange(d_min_value,\n",
    "                     d_max_value+d_step_size,\n",
    "                     d_step_size)\n",
    "\n",
    "split_step_size = 0.1\n",
    "split_min_value = -10\n",
    "split_max_value = 10\n",
    "split_values = np.arange(split_min_value,\n",
    "                         split_max_value+split_step_size,\n",
    "                         split_step_size)\n",
    "\n",
    "output = np.zeros((len(split_values),len(d_values)),dtype=np.float)\n",
    "for x in range(len(d_values)):\n",
    "    \n",
    "    # set mutation_A perturb\n",
    "    dG_j_this = dG_j #- d_values[x]/2\n",
    "    dG_k_this = dG_k + d_values[x] #/2\n",
    "        \n",
    "    for y in range(len(split_values)):\n",
    "        \n",
    "        # set mutation_B perturb\n",
    "        ddG_j_A_this = ddG_j_A #- split_values[y]/2\n",
    "        ddG_k_A_this = ddG_k_A + split_values[y] #/2\n",
    "        ddG_j_B_this = ddG_j_B #- split_values[y]/2\n",
    "        ddG_k_B_this = ddG_k_B + split_values[y] #/2\n",
    "                \n",
    "        mag_in_a, mag_in_b, sign_in_a, sign_in_b, ep_type = get_epistasis(dG_i,   dG_j_this,   dG_k_this,             \n",
    "                                                                          ddG_i_A,ddG_j_A_this,ddG_k_A_this,\n",
    "                                                                          ddG_i_B,ddG_j_B_this,ddG_k_B_this,\n",
    "                                                                          T,R)      \n",
    "        output[y,x] = mag_in_a\n",
    "     \n",
    "    \n",
    "plot_surface(output,d_values,split_values,max_value=7)\n",
    "plt.xlabel(\"$ \\Delta G_{j} - \\Delta G_{k}$\")\n",
    "plt.ylabel(\"$ \\Delta \\Delta G_{j} - \\Delta \\Delta G_{k}$\")\n",
    "\n",
    "#plt.savefig(\"fig2-surface.pdf\")\n",
    "plt.show()\n"
   ]
  },
  {
   "cell_type": "markdown",
   "metadata": {},
   "source": [
    "# Panel 2B: Excited structures with equal starting stabilities"
   ]
  },
  {
   "cell_type": "code",
   "execution_count": 5,
   "metadata": {},
   "outputs": [
    {
     "name": "stdout",
     "output_type": "stream",
     "text": [
      "Ab-ab: -2.3788930770808845\n",
      "AB-ab: -3.9076667402646343\n",
      "Epistasis: -1.5287736631837499\n"
     ]
    },
    {
     "data": {
      "image/png": "[encoded data removed]",
      "text/plain": [
       "<Figure size 432x288 with 1 Axes>"
      ]
     },
     "metadata": {
      "needs_background": "light"
     },
     "output_type": "display_data"
    }
   ],
   "source": [
    "plot_state_cycle(0,0,-4,4,-4,4)\n",
    "#plt.savefig(\"fig2_scenario-2.pdf\")\n",
    "plt.show()"
   ]
  },
  {
   "cell_type": "markdown",
   "metadata": {},
   "source": [
    "# Panel 2C: Excited structures with different starting stabilities"
   ]
  },
  {
   "cell_type": "code",
   "execution_count": 6,
   "metadata": {},
   "outputs": [
    {
     "name": "stdout",
     "output_type": "stream",
     "text": [
      "Ab-ab: -3.907666740264634\n",
      "AB-ab: -3.996271967346157\n",
      "Epistasis: -0.08860522708152319\n"
     ]
    },
    {
     "data": {
      "image/png": "[encoded data removed]",
      "text/plain": [
       "<Figure size 432x288 with 1 Axes>"
      ]
     },
     "metadata": {
      "needs_background": "light"
     },
     "output_type": "display_data"
    }
   ],
   "source": [
    "plot_state_cycle(0,8,-4,4,-4,4)\n",
    "#plt.savefig(\"fig2_scenario-1.pdf\")\n",
    "plt.show()"
   ]
  },
  {
   "cell_type": "markdown",
   "metadata": {},
   "source": [
    "# Panel 2D: Mutations with identical effects on states"
   ]
  },
  {
   "cell_type": "code",
   "execution_count": 7,
   "metadata": {},
   "outputs": [
    {
     "name": "stdout",
     "output_type": "stream",
     "text": [
      "Ab-ab: -3.999999999999999\n",
      "AB-ab: -4.0\n",
      "Epistasis: -8.881784197001252e-16\n"
     ]
    },
    {
     "data": {
      "image/png": "[encoded data removed]",
      "text/plain": [
       "<Figure size 432x288 with 1 Axes>"
      ]
     },
     "metadata": {
      "needs_background": "light"
     },
     "output_type": "display_data"
    }
   ],
   "source": [
    "plot_state_cycle(0,0,-4,-4,-4,-4)\n",
    "#plt.savefig(\"fig2_scenario-1.pdf\")\n",
    "plt.show()"
   ]
  },
  {
   "cell_type": "code",
   "execution_count": null,
   "metadata": {},
   "outputs": [],
   "source": []
  }
 ],
 "metadata": {
  "kernelspec": {
   "display_name": "Python 3",
   "language": "python",
   "name": "python3"
  },
  "language_info": {
   "codemirror_mode": {
    "name": "ipython",
    "version": 3
   },
   "file_extension": ".py",
   "mimetype": "text/x-python",
   "name": "python",
   "nbconvert_exporter": "python",
   "pygments_lexer": "ipython3",
   "version": "3.7.3"
  }
 },
 "nbformat": 4,
 "nbformat_minor": 4
}
